{
 "cells": [
  {
   "cell_type": "code",
   "execution_count": 1,
   "metadata": {
    "colab": {
     "base_uri": "https://localhost:8080/"
    },
    "executionInfo": {
     "elapsed": 21973,
     "status": "ok",
     "timestamp": 1761297248317,
     "user": {
      "displayName": "Derby 08",
      "userId": "03283878381146459243"
     },
     "user_tz": -180
    },
    "id": "H6HXazCdm0_W",
    "outputId": "2ac26640-27b8-4c4b-8fd4-9d8597121e05"
   },
   "outputs": [
    {
     "name": "stdout",
     "output_type": "stream",
     "text": [
      "Requirement already satisfied: torchinfo in /usr/local/lib/python3.11/dist-packages (1.8.0)\n"
     ]
    }
   ],
   "source": [
    "import os\n",
    "import torch, torchvision\n",
    "from torchvision import transforms\n",
    "from collections import Counter\n",
    "from tqdm import tqdm\n",
    "from PIL import Image\n",
    "import PIL\n",
    "from matplotlib import pyplot as plt\n",
    "import pandas as pd\n",
    "from torch.utils.data import DataLoader\n",
    "!pip install torchinfo\n",
    "from torchinfo import summary\n",
    "import torch.nn as nn"
   ]
  },
  {
   "cell_type": "code",
   "execution_count": 2,
   "metadata": {
    "colab": {
     "base_uri": "https://localhost:8080/"
    },
    "executionInfo": {
     "elapsed": 2245,
     "status": "ok",
     "timestamp": 1761297250564,
     "user": {
      "displayName": "Derby 08",
      "userId": "03283878381146459243"
     },
     "user_tz": -180
    },
    "id": "Uka1O5W9lz38",
    "outputId": "c03a54af-665e-480a-eaf5-47fc65e9a7a5"
   },
   "outputs": [
    {
     "name": "stdout",
     "output_type": "stream",
     "text": [
      "Path to dataset images: /kaggle/input/mushrooms-classification-common-genuss-images/Mushrooms\n"
     ]
    }
   ],
   "source": [
    "# Загружаем датасет\n",
    "\n",
    "import kagglehub\n",
    "\n",
    "path = kagglehub.dataset_download(\"maysee/mushrooms-classification-common-genuss-images\")\n",
    "data_path = os.path.join(path, 'Mushrooms')\n",
    "print(\"Path to dataset images:\", data_path)"
   ]
  },
  {
   "cell_type": "code",
   "execution_count": 3,
   "metadata": {
    "executionInfo": {
     "elapsed": 14,
     "status": "ok",
     "timestamp": 1761297250580,
     "user": {
      "displayName": "Derby 08",
      "userId": "03283878381146459243"
     },
     "user_tz": -180
    },
    "id": "IAOMXmZSnyU1"
   },
   "outputs": [],
   "source": [
    "# определяем трансформации, применяемые к изображениям\n",
    "\n",
    "class ConvertToRGB:\n",
    "    def __call__(self, img):\n",
    "        if img.mode != \"RGB\":\n",
    "            img = img.convert(\"RGB\")\n",
    "        return img\n",
    "\n",
    "def get_mean_std(loader):\n",
    "    channels_sum, channels_squared_sum, num_batches = 0, 0, 0\n",
    "    for data, _ in tqdm(loader):\n",
    "        channels_sum += torch.mean(data, dim=[0, 2, 3])\n",
    "        channels_squared_sum += torch.mean(data**2, dim=[0, 2, 3])\n",
    "        num_batches += 1\n",
    "    mean = channels_sum / num_batches\n",
    "    std = (channels_squared_sum / num_batches - mean**2) ** 0.5\n",
    "    return mean, std\n",
    "\n",
    "# mean и std были посчитаны при помощи функции get_mean_std заранее\n",
    "mean = [0.3914, 0.3697, 0.2814]\n",
    "std = [0.2499, 0.2269, 0.2237]\n",
    "transform = transforms.Compose([\n",
    "    ConvertToRGB(),\n",
    "    transforms.CenterCrop((448, 448)),\n",
    "    transforms.Resize((224, 224)),\n",
    "    transforms.ToTensor(),\n",
    "    transforms.Normalize(mean, std)\n",
    "])"
   ]
  },
  {
   "cell_type": "code",
   "execution_count": 4,
   "metadata": {
    "executionInfo": {
     "elapsed": 1757,
     "status": "ok",
     "timestamp": 1761297252339,
     "user": {
      "displayName": "Derby 08",
      "userId": "03283878381146459243"
     },
     "user_tz": -180
    },
    "id": "liky1vnv3hC4"
   },
   "outputs": [],
   "source": [
    "dataset = torchvision.datasets.ImageFolder(data_path, transform=transform)"
   ]
  },
  {
   "cell_type": "markdown",
   "metadata": {
    "id": "pkHfz4Nkz2O6"
   },
   "source": [
    "Изображение с индексом 5407 вызывает ошибку:"
   ]
  },
  {
   "cell_type": "code",
   "execution_count": 5,
   "metadata": {
    "collapsed": true,
    "executionInfo": {
     "elapsed": 3,
     "status": "ok",
     "timestamp": 1761297252345,
     "user": {
      "displayName": "Derby 08",
      "userId": "03283878381146459243"
     },
     "user_tz": -180
    },
    "id": "uWPcL2m6xKIv"
   },
   "outputs": [],
   "source": [
    "# dataset[5407] - ошибка!"
   ]
  },
  {
   "cell_type": "code",
   "execution_count": 6,
   "metadata": {
    "executionInfo": {
     "elapsed": 4,
     "status": "ok",
     "timestamp": 1761297252351,
     "user": {
      "displayName": "Derby 08",
      "userId": "03283878381146459243"
     },
     "user_tz": -180
    },
    "id": "kZ3ES60Xns6a"
   },
   "outputs": [],
   "source": [
    "# удаляем из dataset изображение с индексом 5407\n",
    "dataset.samples = [(path, target) for path, target in dataset.samples if path != dataset.samples[5407][0]]"
   ]
  },
  {
   "cell_type": "code",
   "execution_count": 7,
   "metadata": {
    "colab": {
     "base_uri": "https://localhost:8080/"
    },
    "executionInfo": {
     "elapsed": 52526,
     "status": "ok",
     "timestamp": 1761297304893,
     "user": {
      "displayName": "Derby 08",
      "userId": "03283878381146459243"
     },
     "user_tz": -180
    },
    "id": "ivBMcjlGxKTG",
    "outputId": "c69eefd8-dbe6-48a5-ee23-ac33890bd542"
   },
   "outputs": [
    {
     "name": "stderr",
     "output_type": "stream",
     "text": [
      "100%|██████████| 6713/6713 [00:52<00:00, 127.80it/s]"
     ]
    },
    {
     "name": "stdout",
     "output_type": "stream",
     "text": [
      "{'Agaricus': 353, 'Amanita': 750, 'Boletus': 1073, 'Cortinarius': 836, 'Entoloma': 364, 'Hygrocybe': 316, 'Lactarius': 1563, 'Russula': 1147, 'Suillus': 311}\n"
     ]
    },
    {
     "name": "stderr",
     "output_type": "stream",
     "text": [
      "\n"
     ]
    }
   ],
   "source": [
    "# подсчет распределения классов в dataset\n",
    "counts = Counter(x[1] for x in tqdm(dataset))\n",
    "class_distribution = {cat: counts[i] for cat, i in dataset.class_to_idx.items()}\n",
    "print(class_distribution)"
   ]
  },
  {
   "cell_type": "code",
   "execution_count": 8,
   "metadata": {
    "colab": {
     "base_uri": "https://localhost:8080/",
     "height": 514
    },
    "executionInfo": {
     "elapsed": 818,
     "status": "ok",
     "timestamp": 1761297305768,
     "user": {
      "displayName": "Derby 08",
      "userId": "03283878381146459243"
     },
     "user_tz": -180
    },
    "id": "vB6zajvs10Xu",
    "outputId": "9b4ec113-87f9-4fc1-9bf6-b695dbf1b1ed"
   },
   "outputs": [
    {
     "data": {
      "image/png": "[encoded data removed]",
      "text/plain": [
       "<Figure size 640x480 with 1 Axes>"
      ]
     },
     "metadata": {},
     "output_type": "display_data"
    }
   ],
   "source": [
    "plt.bar(class_distribution.keys(), class_distribution.values())\n",
    "plt.title(\"Распределение классов в датасете\")\n",
    "plt.xticks(rotation=90)\n",
    "plt.show()"
   ]
  },
  {
   "cell_type": "code",
   "execution_count": 9,
   "metadata": {
    "colab": {
     "base_uri": "https://localhost:8080/"
    },
    "executionInfo": {
     "elapsed": 7,
     "status": "ok",
     "timestamp": 1761297305777,
     "user": {
      "displayName": "Derby 08",
      "userId": "03283878381146459243"
     },
     "user_tz": -180
    },
    "id": "bqQcKwoe5sdT",
    "outputId": "41012c70-a95f-4181-d7c8-bd68f0104796"
   },
   "outputs": [
    {
     "name": "stdout",
     "output_type": "stream",
     "text": [
      "5035\n",
      "672\n",
      "1006\n"
     ]
    }
   ],
   "source": [
    "from torch.utils.data import random_split\n",
    "\n",
    "g = torch.Generator()\n",
    "g.manual_seed(42)\n",
    "\n",
    "# разделяем данные на тренировочную, валидационную и тестовую выборки\n",
    "train_dataset, val_dataset, test_dataset = random_split(dataset, [0.75, 0.1, 0.15], g)\n",
    "print(len(train_dataset))\n",
    "print(len(val_dataset))\n",
    "print(len(test_dataset))"
   ]
  },
  {
   "cell_type": "code",
   "execution_count": 10,
   "metadata": {
    "executionInfo": {
     "elapsed": 9,
     "status": "ok",
     "timestamp": 1761297305787,
     "user": {
      "displayName": "Derby 08",
      "userId": "03283878381146459243"
     },
     "user_tz": -180
    },
    "id": "N_Rx7dPw6acJ"
   },
   "outputs": [],
   "source": [
    "# функция подсчета классов\n",
    "def class_counts(dataset) -> pd.Series:\n",
    "    c = Counter(x[1] for x in tqdm(dataset))\n",
    "    class_to_index = dataset.dataset.class_to_idx\n",
    "    return pd.Series({cat: c[idx] for cat, idx in class_to_index.items()})"
   ]
  },
  {
   "cell_type": "code",
   "execution_count": 11,
   "metadata": {
    "colab": {
     "base_uri": "https://localhost:8080/",
     "height": 550
    },
    "executionInfo": {
     "elapsed": 35420,
     "status": "ok",
     "timestamp": 1761297341201,
     "user": {
      "displayName": "Derby 08",
      "userId": "03283878381146459243"
     },
     "user_tz": -180
    },
    "id": "chIaBibF7Oaw",
    "outputId": "7beae68c-d9ad-4efb-c4ab-c9297527a3d0"
   },
   "outputs": [
    {
     "name": "stderr",
     "output_type": "stream",
     "text": [
      "100%|██████████| 5035/5035 [00:35<00:00, 143.20it/s]\n"
     ]
    },
    {
     "data": {
      "text/plain": [
       "<Axes: title={'center': 'распределение классов в тренировочной выборке'}>"
      ]
     },
     "execution_count": 11,
     "metadata": {},
     "output_type": "execute_result"
    },
    {
     "data": {
      "image/png": "[encoded data removed]",
      "text/plain": [
       "<Figure size 640x480 with 1 Axes>"
      ]
     },
     "metadata": {},
     "output_type": "display_data"
    }
   ],
   "source": [
    "(class_counts(train_dataset)).plot(kind='bar', title=\"распределение классов в тренировочной выборке\")"
   ]
  },
  {
   "cell_type": "code",
   "execution_count": 12,
   "metadata": {
    "colab": {
     "base_uri": "https://localhost:8080/",
     "height": 550
    },
    "executionInfo": {
     "elapsed": 4470,
     "status": "ok",
     "timestamp": 1761297345672,
     "user": {
      "displayName": "Derby 08",
      "userId": "03283878381146459243"
     },
     "user_tz": -180
    },
    "id": "D3n77kLM6mJN",
    "outputId": "2f37406a-135c-48bc-e07f-5c00eafcdaee"
   },
   "outputs": [
    {
     "name": "stderr",
     "output_type": "stream",
     "text": [
      "100%|██████████| 672/672 [00:04<00:00, 157.97it/s]\n"
     ]
    },
    {
     "data": {
      "text/plain": [
       "<Axes: title={'center': 'распределение классов в валидационноый выборке'}>"
      ]
     },
     "execution_count": 12,
     "metadata": {},
     "output_type": "execute_result"
    },
    {
     "data": {
      "image/png": "[encoded data removed]",
      "text/plain": [
       "<Figure size 640x480 with 1 Axes>"
      ]
     },
     "metadata": {},
     "output_type": "display_data"
    }
   ],
   "source": [
    "(class_counts(val_dataset)).plot(kind='bar', title=\"распределение классов в валидационноый выборке\")"
   ]
  },
  {
   "cell_type": "code",
   "execution_count": 13,
   "metadata": {
    "colab": {
     "base_uri": "https://localhost:8080/",
     "height": 550
    },
    "executionInfo": {
     "elapsed": 7229,
     "status": "ok",
     "timestamp": 1761297352905,
     "user": {
      "displayName": "Derby 08",
      "userId": "03283878381146459243"
     },
     "user_tz": -180
    },
    "id": "1eLff5XF7LEt",
    "outputId": "62914e81-83c8-42c8-9958-62c0313903e2"
   },
   "outputs": [
    {
     "name": "stderr",
     "output_type": "stream",
     "text": [
      "100%|██████████| 1006/1006 [00:07<00:00, 140.67it/s]\n"
     ]
    },
    {
     "data": {
      "text/plain": [
       "<Axes: title={'center': 'распределение классов в тестовой выборке'}>"
      ]
     },
     "execution_count": 13,
     "metadata": {},
     "output_type": "execute_result"
    },
    {
     "data": {
      "image/png": "[encoded data removed]",
      "text/plain": [
       "<Figure size 640x480 with 1 Axes>"
      ]
     },
     "metadata": {},
     "output_type": "display_data"
    }
   ],
   "source": [
    "(class_counts(test_dataset)).plot(kind='bar', title=\"распределение классов в тестовой выборке\")"
   ]
  },
  {
   "cell_type": "code",
   "execution_count": 14,
   "metadata": {
    "executionInfo": {
     "elapsed": 37,
     "status": "ok",
     "timestamp": 1761297352944,
     "user": {
      "displayName": "Derby 08",
      "userId": "03283878381146459243"
     },
     "user_tz": -180
    },
    "id": "Vx2z_FUs7ZHD"
   },
   "outputs": [],
   "source": [
    "# загрузчики\n",
    "\n",
    "batch_size = 32\n",
    "\n",
    "train_loader = DataLoader(train_dataset, batch_size, shuffle=True)\n",
    "\n",
    "val_loader = DataLoader(val_dataset, batch_size, shuffle=False)\n",
    "\n",
    "test_loader = DataLoader(test_dataset, batch_size, shuffle=False)"
   ]
  },
  {
   "cell_type": "code",
   "execution_count": 15,
   "metadata": {
    "executionInfo": {
     "elapsed": 23,
     "status": "ok",
     "timestamp": 1761297352959,
     "user": {
      "displayName": "Derby 08",
      "userId": "03283878381146459243"
     },
     "user_tz": -180
    },
    "id": "6oqnnFBV9Hi7"
   },
   "outputs": [],
   "source": [
    "# функции, используемые для обучения и оценки точности модели\n",
    "\n",
    "def train_epoch(model, optimizer, loss_fn, data_loader, device=\"cpu\"):\n",
    "    training_loss = 0.0\n",
    "    model.train()\n",
    "\n",
    "    for inputs, targets in tqdm(data_loader, desc=\"Training\", leave=False):\n",
    "        optimizer.zero_grad()\n",
    "\n",
    "        inputs = inputs.to(device)\n",
    "        targets = targets.to(device)\n",
    "\n",
    "        output = model(inputs)\n",
    "        loss = loss_fn(output, targets)\n",
    "\n",
    "        loss.backward()\n",
    "        optimizer.step()\n",
    "        training_loss += loss.data.item() * inputs.size(0)\n",
    "\n",
    "    return training_loss / len(data_loader.dataset)\n",
    "\n",
    "\n",
    "def score(model, data_loader, loss_fn, device=\"cpu\"):\n",
    "    model.eval()\n",
    "\n",
    "    total_loss = 0\n",
    "    total_correct = 0\n",
    "\n",
    "    with torch.no_grad():\n",
    "        for inputs, targets in tqdm(data_loader, desc=\"Scoring\", leave=False):\n",
    "            inputs = inputs.to(device)\n",
    "            targets = targets.to(device)\n",
    "\n",
    "            output = model(inputs)\n",
    "            loss = loss_fn(output, targets)\n",
    "            total_loss += loss.data.item() * inputs.size(0)\n",
    "\n",
    "            correct = torch.eq(torch.argmax(output, dim=1), targets)\n",
    "            total_correct += torch.sum(correct).item()\n",
    "\n",
    "    return total_loss / len(data_loader.dataset), total_correct / len(\n",
    "        data_loader.dataset\n",
    "    )\n",
    "\n",
    "\n",
    "def train(model, optimizer, loss_fn, train_loader, val_loader, epochs=20, device=\"cpu\"):\n",
    "\n",
    "    for epoch in range(1, epochs + 1):\n",
    "        training_loss = train_epoch(model, optimizer, loss_fn, train_loader, device)\n",
    "        validation_loss, validation_accuracy = score(model, val_loader, loss_fn, device)\n",
    "\n",
    "        print(\n",
    "            f\"Epoch: {epoch}, Training Loss: {training_loss:.2f}, \"\n",
    "            f\"Validation Loss: {validation_loss:.2f}, Validation Accuracy: {validation_accuracy:.2f}\"\n",
    "        )"
   ]
  },
  {
   "cell_type": "markdown",
   "metadata": {
    "id": "MEhVaPqpbeQV"
   },
   "source": [
    "В качестве используемой модели выбираем предобученную сверточную сеть Alexnet:"
   ]
  },
  {
   "cell_type": "code",
   "execution_count": 16,
   "metadata": {
    "colab": {
     "base_uri": "https://localhost:8080/"
    },
    "executionInfo": {
     "elapsed": 1145,
     "status": "ok",
     "timestamp": 1761297354084,
     "user": {
      "displayName": "Derby 08",
      "userId": "03283878381146459243"
     },
     "user_tz": -180
    },
    "id": "GdL61xdUOCAM",
    "outputId": "ec215e7b-b791-45df-a196-2507626976ca"
   },
   "outputs": [
    {
     "name": "stderr",
     "output_type": "stream",
     "text": [
      "/usr/local/lib/python3.11/dist-packages/torchvision/models/_utils.py:208: UserWarning: The parameter 'pretrained' is deprecated since 0.13 and may be removed in the future, please use 'weights' instead.\n",
      "  warnings.warn(\n",
      "/usr/local/lib/python3.11/dist-packages/torchvision/models/_utils.py:223: UserWarning: Arguments other than a weight enum or `None` for 'weights' are deprecated since 0.13 and may be removed in the future. The current behavior is equivalent to passing `weights=AlexNet_Weights.IMAGENET1K_V1`. You can also use `weights=AlexNet_Weights.DEFAULT` to get the most up-to-date weights.\n",
      "  warnings.warn(msg)\n"
     ]
    },
    {
     "data": {
      "text/plain": [
       "=================================================================\n",
       "Layer (type:depth-idx)                   Param #\n",
       "=================================================================\n",
       "AlexNet                                  --\n",
       "├─Sequential: 1-1                        --\n",
       "│    └─Conv2d: 2-1                       (23,296)\n",
       "│    └─ReLU: 2-2                         --\n",
       "│    └─MaxPool2d: 2-3                    --\n",
       "│    └─Conv2d: 2-4                       (307,392)\n",
       "│    └─ReLU: 2-5                         --\n",
       "│    └─MaxPool2d: 2-6                    --\n",
       "│    └─Conv2d: 2-7                       (663,936)\n",
       "│    └─ReLU: 2-8                         --\n",
       "│    └─Conv2d: 2-9                       (884,992)\n",
       "│    └─ReLU: 2-10                        --\n",
       "│    └─Conv2d: 2-11                      (590,080)\n",
       "│    └─ReLU: 2-12                        --\n",
       "│    └─MaxPool2d: 2-13                   --\n",
       "├─AdaptiveAvgPool2d: 1-2                 --\n",
       "├─Sequential: 1-3                        --\n",
       "│    └─Dropout: 2-14                     --\n",
       "│    └─Linear: 2-15                      37,752,832\n",
       "│    └─ReLU: 2-16                        --\n",
       "│    └─Dropout: 2-17                     --\n",
       "│    └─Linear: 2-18                      16,781,312\n",
       "│    └─ReLU: 2-19                        --\n",
       "│    └─Linear: 2-20                      36,873\n",
       "=================================================================\n",
       "Total params: 57,040,713\n",
       "Trainable params: 54,571,017\n",
       "Non-trainable params: 2,469,696\n",
       "================================================================="
      ]
     },
     "execution_count": 16,
     "metadata": {},
     "output_type": "execute_result"
    }
   ],
   "source": [
    "import torchvision.models as models\n",
    "alexnet = models.alexnet(pretrained=True)\n",
    "\n",
    "# Заменяем весь классифицирующий слой\n",
    "alexnet.classifier = nn.Sequential(\n",
    "    nn.Dropout(),\n",
    "    nn.Linear(256 * 6 * 6, 4096),\n",
    "    nn.ReLU(inplace=True),\n",
    "    nn.Dropout(),\n",
    "    nn.Linear(4096, 4096),\n",
    "    nn.ReLU(inplace=True),\n",
    "    nn.Linear(4096, 9)\n",
    ")\n",
    "\n",
    "# замораживаем остальные слои\n",
    "for param in alexnet.features.parameters():\n",
    "    param.requires_grad = False\n",
    "\n",
    "summary(alexnet)"
   ]
  },
  {
   "cell_type": "code",
   "execution_count": 17,
   "metadata": {
    "executionInfo": {
     "elapsed": 214,
     "status": "ok",
     "timestamp": 1761297354299,
     "user": {
      "displayName": "Derby 08",
      "userId": "03283878381146459243"
     },
     "user_tz": -180
    },
    "id": "m7ry2aBXWInF"
   },
   "outputs": [],
   "source": [
    "device = torch.device(\"cuda\" if torch.cuda.is_available() else \"cpu\")\n",
    "alexnet.to(device)\n",
    "\n",
    "# выбираем функцию потерь и оптимизатор\n",
    "loss_fn = nn.CrossEntropyLoss()\n",
    "optimizer = torch.optim.Adam(alexnet.classifier.parameters(), lr=0.001)"
   ]
  },
  {
   "cell_type": "code",
   "execution_count": 18,
   "metadata": {
    "colab": {
     "base_uri": "https://localhost:8080/"
    },
    "executionInfo": {
     "elapsed": 1418561,
     "status": "ok",
     "timestamp": 1761298772863,
     "user": {
      "displayName": "Derby 08",
      "userId": "03283878381146459243"
     },
     "user_tz": -180
    },
    "id": "RtknDATAWTWt",
    "outputId": "378e7fd3-2f1f-4030-a065-ddfceadf9038"
   },
   "outputs": [
    {
     "name": "stderr",
     "output_type": "stream",
     "text": []
    },
    {
     "name": "stdout",
     "output_type": "stream",
     "text": [
      "Epoch: 1, Training Loss: 2.36, Validation Loss: 1.37, Validation Accuracy: 0.54\n"
     ]
    },
    {
     "name": "stderr",
     "output_type": "stream",
     "text": []
    },
    {
     "name": "stdout",
     "output_type": "stream",
     "text": [
      "Epoch: 2, Training Loss: 1.42, Validation Loss: 1.30, Validation Accuracy: 0.56\n"
     ]
    },
    {
     "name": "stderr",
     "output_type": "stream",
     "text": []
    },
    {
     "name": "stdout",
     "output_type": "stream",
     "text": [
      "Epoch: 3, Training Loss: 1.32, Validation Loss: 1.29, Validation Accuracy: 0.59\n"
     ]
    },
    {
     "name": "stderr",
     "output_type": "stream",
     "text": []
    },
    {
     "name": "stdout",
     "output_type": "stream",
     "text": [
      "Epoch: 4, Training Loss: 1.21, Validation Loss: 1.20, Validation Accuracy: 0.59\n"
     ]
    },
    {
     "name": "stderr",
     "output_type": "stream",
     "text": []
    },
    {
     "name": "stdout",
     "output_type": "stream",
     "text": [
      "Epoch: 5, Training Loss: 1.16, Validation Loss: 1.20, Validation Accuracy: 0.63\n"
     ]
    },
    {
     "name": "stderr",
     "output_type": "stream",
     "text": []
    },
    {
     "name": "stdout",
     "output_type": "stream",
     "text": [
      "Epoch: 6, Training Loss: 1.10, Validation Loss: 1.19, Validation Accuracy: 0.63\n"
     ]
    },
    {
     "name": "stderr",
     "output_type": "stream",
     "text": []
    },
    {
     "name": "stdout",
     "output_type": "stream",
     "text": [
      "Epoch: 7, Training Loss: 1.03, Validation Loss: 1.14, Validation Accuracy: 0.65\n"
     ]
    },
    {
     "name": "stderr",
     "output_type": "stream",
     "text": []
    },
    {
     "name": "stdout",
     "output_type": "stream",
     "text": [
      "Epoch: 8, Training Loss: 0.99, Validation Loss: 1.07, Validation Accuracy: 0.65\n"
     ]
    },
    {
     "name": "stderr",
     "output_type": "stream",
     "text": []
    },
    {
     "name": "stdout",
     "output_type": "stream",
     "text": [
      "Epoch: 9, Training Loss: 0.95, Validation Loss: 1.08, Validation Accuracy: 0.64\n"
     ]
    },
    {
     "name": "stderr",
     "output_type": "stream",
     "text": []
    },
    {
     "name": "stdout",
     "output_type": "stream",
     "text": [
      "Epoch: 10, Training Loss: 0.94, Validation Loss: 1.09, Validation Accuracy: 0.64\n"
     ]
    },
    {
     "name": "stderr",
     "output_type": "stream",
     "text": []
    },
    {
     "name": "stdout",
     "output_type": "stream",
     "text": [
      "Epoch: 11, Training Loss: 0.88, Validation Loss: 1.10, Validation Accuracy: 0.64\n"
     ]
    },
    {
     "name": "stderr",
     "output_type": "stream",
     "text": []
    },
    {
     "name": "stdout",
     "output_type": "stream",
     "text": [
      "Epoch: 12, Training Loss: 0.85, Validation Loss: 1.10, Validation Accuracy: 0.64\n"
     ]
    },
    {
     "name": "stderr",
     "output_type": "stream",
     "text": []
    },
    {
     "name": "stdout",
     "output_type": "stream",
     "text": [
      "Epoch: 13, Training Loss: 0.83, Validation Loss: 1.03, Validation Accuracy: 0.67\n"
     ]
    },
    {
     "name": "stderr",
     "output_type": "stream",
     "text": []
    },
    {
     "name": "stdout",
     "output_type": "stream",
     "text": [
      "Epoch: 14, Training Loss: 0.79, Validation Loss: 1.10, Validation Accuracy: 0.68\n"
     ]
    },
    {
     "name": "stderr",
     "output_type": "stream",
     "text": []
    },
    {
     "name": "stdout",
     "output_type": "stream",
     "text": [
      "Epoch: 15, Training Loss: 0.79, Validation Loss: 1.08, Validation Accuracy: 0.67\n"
     ]
    },
    {
     "name": "stderr",
     "output_type": "stream",
     "text": []
    },
    {
     "name": "stdout",
     "output_type": "stream",
     "text": [
      "Epoch: 16, Training Loss: 0.75, Validation Loss: 1.02, Validation Accuracy: 0.68\n"
     ]
    },
    {
     "name": "stderr",
     "output_type": "stream",
     "text": []
    },
    {
     "name": "stdout",
     "output_type": "stream",
     "text": [
      "Epoch: 17, Training Loss: 0.74, Validation Loss: 1.06, Validation Accuracy: 0.67\n"
     ]
    },
    {
     "name": "stderr",
     "output_type": "stream",
     "text": []
    },
    {
     "name": "stdout",
     "output_type": "stream",
     "text": [
      "Epoch: 18, Training Loss: 0.73, Validation Loss: 1.07, Validation Accuracy: 0.66\n"
     ]
    },
    {
     "name": "stderr",
     "output_type": "stream",
     "text": []
    },
    {
     "name": "stdout",
     "output_type": "stream",
     "text": [
      "Epoch: 19, Training Loss: 0.70, Validation Loss: 1.11, Validation Accuracy: 0.63\n"
     ]
    },
    {
     "name": "stderr",
     "output_type": "stream",
     "text": []
    },
    {
     "name": "stdout",
     "output_type": "stream",
     "text": [
      "Epoch: 20, Training Loss: 0.67, Validation Loss: 1.03, Validation Accuracy: 0.67\n"
     ]
    },
    {
     "name": "stderr",
     "output_type": "stream",
     "text": []
    },
    {
     "name": "stdout",
     "output_type": "stream",
     "text": [
      "Epoch: 21, Training Loss: 0.72, Validation Loss: 1.11, Validation Accuracy: 0.65\n"
     ]
    },
    {
     "name": "stderr",
     "output_type": "stream",
     "text": []
    },
    {
     "name": "stdout",
     "output_type": "stream",
     "text": [
      "Epoch: 22, Training Loss: 0.66, Validation Loss: 1.08, Validation Accuracy: 0.65\n"
     ]
    },
    {
     "name": "stderr",
     "output_type": "stream",
     "text": []
    },
    {
     "name": "stdout",
     "output_type": "stream",
     "text": [
      "Epoch: 23, Training Loss: 0.63, Validation Loss: 1.07, Validation Accuracy: 0.66\n"
     ]
    },
    {
     "name": "stderr",
     "output_type": "stream",
     "text": []
    },
    {
     "name": "stdout",
     "output_type": "stream",
     "text": [
      "Epoch: 24, Training Loss: 0.66, Validation Loss: 1.09, Validation Accuracy: 0.65\n"
     ]
    },
    {
     "name": "stderr",
     "output_type": "stream",
     "text": []
    },
    {
     "name": "stdout",
     "output_type": "stream",
     "text": [
      "Epoch: 25, Training Loss: 0.67, Validation Loss: 1.11, Validation Accuracy: 0.67\n"
     ]
    },
    {
     "name": "stderr",
     "output_type": "stream",
     "text": []
    },
    {
     "name": "stdout",
     "output_type": "stream",
     "text": [
      "Epoch: 26, Training Loss: 0.69, Validation Loss: 1.07, Validation Accuracy: 0.68\n"
     ]
    },
    {
     "name": "stderr",
     "output_type": "stream",
     "text": []
    },
    {
     "name": "stdout",
     "output_type": "stream",
     "text": [
      "Epoch: 27, Training Loss: 0.63, Validation Loss: 1.06, Validation Accuracy: 0.67\n"
     ]
    },
    {
     "name": "stderr",
     "output_type": "stream",
     "text": []
    },
    {
     "name": "stdout",
     "output_type": "stream",
     "text": [
      "Epoch: 28, Training Loss: 0.61, Validation Loss: 1.07, Validation Accuracy: 0.65\n"
     ]
    },
    {
     "name": "stderr",
     "output_type": "stream",
     "text": []
    },
    {
     "name": "stdout",
     "output_type": "stream",
     "text": [
      "Epoch: 29, Training Loss: 0.64, Validation Loss: 1.12, Validation Accuracy: 0.65\n"
     ]
    },
    {
     "name": "stderr",
     "output_type": "stream",
     "text": [
      "                                                        "
     ]
    },
    {
     "name": "stdout",
     "output_type": "stream",
     "text": [
      "Epoch: 30, Training Loss: 0.60, Validation Loss: 1.06, Validation Accuracy: 0.68\n"
     ]
    },
    {
     "name": "stderr",
     "output_type": "stream",
     "text": [
      "\r"
     ]
    }
   ],
   "source": [
    "# обучаем модель 30 эпох\n",
    "train(alexnet, optimizer, loss_fn, train_loader, val_loader, epochs=30, device=device)"
   ]
  },
  {
   "cell_type": "code",
   "execution_count": 23,
   "metadata": {
    "colab": {
     "base_uri": "https://localhost:8080/"
    },
    "executionInfo": {
     "elapsed": 223806,
     "status": "ok",
     "timestamp": 1761299310382,
     "user": {
      "displayName": "Derby 08",
      "userId": "03283878381146459243"
     },
     "user_tz": -180
    },
    "id": "nIgiYCW_l3fr",
    "outputId": "d8f82d10-1bf2-48b9-d496-a5b6f70ab2f2"
   },
   "outputs": [
    {
     "name": "stderr",
     "output_type": "stream",
     "text": []
    },
    {
     "name": "stdout",
     "output_type": "stream",
     "text": [
      "Epoch: 1, Training Loss: 0.61, Validation Loss: 1.06, Validation Accuracy: 0.68\n"
     ]
    },
    {
     "name": "stderr",
     "output_type": "stream",
     "text": []
    },
    {
     "name": "stdout",
     "output_type": "stream",
     "text": [
      "Epoch: 2, Training Loss: 0.56, Validation Loss: 1.07, Validation Accuracy: 0.66\n"
     ]
    },
    {
     "name": "stderr",
     "output_type": "stream",
     "text": []
    },
    {
     "name": "stdout",
     "output_type": "stream",
     "text": [
      "Epoch: 3, Training Loss: 0.53, Validation Loss: 1.08, Validation Accuracy: 0.67\n"
     ]
    },
    {
     "name": "stderr",
     "output_type": "stream",
     "text": []
    },
    {
     "name": "stdout",
     "output_type": "stream",
     "text": [
      "Epoch: 4, Training Loss: 0.55, Validation Loss: 1.08, Validation Accuracy: 0.65\n"
     ]
    },
    {
     "name": "stderr",
     "output_type": "stream",
     "text": [
      "                                                        "
     ]
    },
    {
     "name": "stdout",
     "output_type": "stream",
     "text": [
      "Epoch: 5, Training Loss: 0.55, Validation Loss: 1.06, Validation Accuracy: 0.67\n"
     ]
    },
    {
     "name": "stderr",
     "output_type": "stream",
     "text": [
      "\r"
     ]
    }
   ],
   "source": [
    "# обучаем модель еще 5 эпох\n",
    "train(alexnet, optimizer, loss_fn, train_loader, val_loader, epochs=5, device=device)"
   ]
  },
  {
   "cell_type": "code",
   "execution_count": 19,
   "metadata": {
    "colab": {
     "base_uri": "https://localhost:8080/"
    },
    "executionInfo": {
     "elapsed": 7881,
     "status": "ok",
     "timestamp": 1761298780737,
     "user": {
      "displayName": "Derby 08",
      "userId": "03283878381146459243"
     },
     "user_tz": -180
    },
    "id": "LA2qK-oPeEIp",
    "outputId": "949ba286-edda-4d31-e968-bd31d06259d0"
   },
   "outputs": [
    {
     "name": "stderr",
     "output_type": "stream",
     "text": [
      "                                                        "
     ]
    },
    {
     "name": "stdout",
     "output_type": "stream",
     "text": [
      "Test Loss: 1.03, Test Accuracy: 0.68\n"
     ]
    },
    {
     "name": "stderr",
     "output_type": "stream",
     "text": [
      "\r"
     ]
    }
   ],
   "source": [
    "# оцениваем точность модели на тестовой выборке\n",
    "\n",
    "test_loss, test_accuracy = score(alexnet, test_loader, loss_fn, device)\n",
    "print(f\"Test Loss: {test_loss:.2f}, Test Accuracy: {test_accuracy:.2f}\")"
   ]
  },
  {
   "cell_type": "code",
   "execution_count": 20,
   "metadata": {
    "executionInfo": {
     "elapsed": 537,
     "status": "ok",
     "timestamp": 1761298781276,
     "user": {
      "displayName": "Derby 08",
      "userId": "03283878381146459243"
     },
     "user_tz": -180
    },
    "id": "OZGLE_OorfLK"
   },
   "outputs": [],
   "source": [
    "# сохраняем модель\n",
    "torch.save(alexnet.state_dict(), 'model.pth')"
   ]
  },
  {
   "cell_type": "code",
   "execution_count": 21,
   "metadata": {
    "colab": {
     "base_uri": "https://localhost:8080/",
     "height": 780
    },
    "executionInfo": {
     "elapsed": 10641,
     "status": "ok",
     "timestamp": 1761298792037,
     "user": {
      "displayName": "Derby 08",
      "userId": "03283878381146459243"
     },
     "user_tz": -180
    },
    "id": "E7UXp3LGgiw4",
    "outputId": "9b4bcbc1-76f5-41d7-9d48-e6c0e95da04e"
   },
   "outputs": [
    {
     "name": "stderr",
     "output_type": "stream",
     "text": []
    },
    {
     "data": {
      "image/png": "[encoded data removed]",
      "text/plain": [
       "<Figure size 1000x800 with 2 Axes>"
      ]
     },
     "metadata": {},
     "output_type": "display_data"
    }
   ],
   "source": [
    "from sklearn.metrics import confusion_matrix\n",
    "import seaborn as sns\n",
    "import numpy as np\n",
    "\n",
    "# Get predictions and true labels for the test set\n",
    "all_preds = []\n",
    "all_targets = []\n",
    "with torch.no_grad():\n",
    "    for inputs, targets in tqdm(test_loader, desc=\"Generating Confusion Matrix\", leave=False):\n",
    "        inputs = inputs.to(device)\n",
    "        outputs = alexnet(inputs)\n",
    "        _, preds = torch.max(outputs, 1)\n",
    "        all_preds.extend(preds.cpu().numpy())\n",
    "        all_targets.extend(targets.cpu().numpy())\n",
    "\n",
    "# Compute confusion matrix\n",
    "cm = confusion_matrix(all_targets, all_preds)\n",
    "\n",
    "# Get class names\n",
    "class_names = dataset.classes\n",
    "\n",
    "# Plot confusion matrix\n",
    "plt.figure(figsize=(10, 8))\n",
    "sns.heatmap(cm, annot=True, fmt='d', cmap='Blues', xticklabels=class_names, yticklabels=class_names)\n",
    "plt.xlabel('Predicted')\n",
    "plt.ylabel('True')\n",
    "plt.title('Confusion Matrix for Test Dataset')\n",
    "plt.show()"
   ]
  },
  {
   "cell_type": "markdown",
   "metadata": {
    "id": "QOuvTjPqoJKc"
   },
   "source": [
    "Лучшая точность, которой удалось добиться на тестовой выборке составляет 68%"
   ]
  }
 ],
 "metadata": {
  "accelerator": "GPU",
  "colab": {
   "authorship_tag": "ABX9TyN6FE7nwlxSUqDpkPHdD84l",
   "gpuType": "T4",
   "provenance": [],
   "runtime_attributes": {
    "runtime_version": "2025.07"
   }
  },
  "kernelspec": {
   "display_name": "Python 3",
   "name": "python3"
  },
  "language_info": {
   "name": "python"
  }
 },
 "nbformat": 4,
 "nbformat_minor": 0
}
